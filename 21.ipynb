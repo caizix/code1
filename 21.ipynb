{
 "cells": [
  {
   "cell_type": "markdown",
   "metadata": {},
   "source": [
    "### 编写一个程序，统计当前目录有什么类型"
   ]
  },
  {
   "cell_type": "code",
   "execution_count": 7,
   "metadata": {},
   "outputs": [
    {
     "name": "stdout",
     "output_type": "stream",
     "text": [
      "有类型为文件夹的文件3个\n",
      "有类型为.json的文件1个\n",
      "有类型为.ipynb的文件16个\n",
      "有类型为的文件3个\n",
      "有类型为.txt的文件1个\n"
     ]
    }
   ],
   "source": [
    "import os\n",
    "#获取当前文件夹所有的文件\n",
    "all_files = os.listdir(os.curdir)\n",
    "\n",
    "type_dict = dict()\n",
    "\n",
    "for each_file in all_files:\n",
    "    #文件夹\n",
    "    if os.path.isdir(each_file):\n",
    "        type_dict.setdefault(\"文件夹\",0)\n",
    "        type_dict[\"文件夹\"] += 1\n",
    "    else:\n",
    "        #文件\n",
    "        ext = os.path.splitext(each_file)[1]\n",
    "        type_dict.setdefault(ext,0)\n",
    "        type_dict[ext] +=1\n",
    "for each_type in type_dict:\n",
    "    print(\"有类型为{}的文件{}个\".format(each_type,type_dict[each_type]))\n"
   ]
  },
  {
   "cell_type": "markdown",
   "metadata": {},
   "source": [
    "###计算当前文件夹下面的所有文件的大小\n"
   ]
  },
  {
   "cell_type": "code",
   "execution_count": 9,
   "metadata": {},
   "outputs": [
    {
     "name": "stdout",
     "output_type": "stream",
     "text": [
      "1234.json大小82\n",
      "21.ipynb大小2343\n",
      "asd大小19\n",
      "b14.ipynb大小12851\n",
      "b15.ipynb大小3301\n",
      "b20.ipynb大小4056\n",
      "digui.ipynb大小1636\n",
      "for_1.ipynb大小1413\n",
      "hahaha.txt大小13\n",
      "mian1.ipynb大小17266\n",
      "text1大小29\n",
      "text2大小30\n",
      "tuple-dict-set.ipynb大小11920\n",
      "Untitled.ipynb大小1539\n",
      "Untitled1.ipynb大小8834\n",
      "xunhuan.ipynb大小11016\n",
      "z05.ipynb大小30274\n",
      "z06.ipynb大小3612\n",
      "z07.ipynb大小10682\n",
      "z08.ipynb大小1640\n",
      "屏保.ipynb大小573\n"
     ]
    }
   ],
   "source": [
    "import os\n",
    "\n",
    "all_files = os.listdir(os.curdir)\n",
    "\n",
    "file_dict = dict()\n",
    "\n",
    "for each_file in all_files:\n",
    "    if os.path.isfile(each_file):\n",
    "        file_size = os.path.getsize(each_file)\n",
    "        file_dict[each_file] = file_size\n",
    "        \n",
    "for each in file_dict.items():\n",
    "    print(\"{}大小{}\".format(each[0],each[1]))"
   ]
  },
  {
   "cell_type": "code",
   "execution_count": null,
   "metadata": {},
   "outputs": [],
   "source": []
  }
 ],
 "metadata": {
  "kernelspec": {
   "display_name": "Python 3",
   "language": "python",
   "name": "python3"
  },
  "language_info": {
   "codemirror_mode": {
    "name": "ipython",
    "version": 3
   },
   "file_extension": ".py",
   "mimetype": "text/x-python",
   "name": "python",
   "nbconvert_exporter": "python",
   "pygments_lexer": "ipython3",
   "version": "3.7.1"
  }
 },
 "nbformat": 4,
 "nbformat_minor": 2
}
