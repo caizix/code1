{
 "cells": [
  {
   "cell_type": "markdown",
   "metadata": {},
   "source": [
    "# logging\n",
    "- logging.debug\n",
    "- logging.info\n",
    "- logging.warning\n",
    "- logging.error\n",
    "- logging.critical"
   ]
  },
  {
   "cell_type": "code",
   "execution_count": 1,
   "metadata": {},
   "outputs": [],
   "source": [
    "import logging\n",
    "LOG_FORMART = \"%(asctime)s - %(levelname)s - %(message)s\"\n",
    "logging.basicConfig(level=logging.DEBUG,format = LOG_FORMART,filename=\"my.log\")\n",
    "\n",
    "logging.debug(\"this is debug\")\n",
    "logging.info(\"this is info\")\n",
    "logging.warning(\"this is warning\")\n",
    "logging.error(\"this is error\")\n",
    "logging.critical(\"this is critical\")"
   ]
  },
  {
   "cell_type": "markdown",
   "metadata": {},
   "source": [
    "#### 装饰器\n",
    "- 使用装饰器，打印函数执行的时间"
   ]
  },
  {
   "cell_type": "code",
   "execution_count": 1,
   "metadata": {},
   "outputs": [
    {
     "name": "stderr",
     "output_type": "stream",
     "text": [
      "2019-03-29 14:05:25,654 - ERROR - this is info message\n"
     ]
    },
    {
     "name": "stdout",
     "output_type": "stream",
     "text": [
      "text done\n"
     ]
    }
   ],
   "source": [
    "import logging\n",
    "LOG_FORMART = \"%(asctime)s - %(levelname)s - %(message)s\"\n",
    "logging.basicConfig(format=LOG_FORMART)\n",
    "def log(func):\n",
    "    def wrapper(*arg,**kw):\n",
    "        logging.error(\"this is info message\")\n",
    "        return func(*arg,**kw)\n",
    "    return wrapper\n",
    "@log\n",
    "def text():\n",
    "    print(\"text done\")\n",
    "text()"
   ]
  },
  {
   "cell_type": "markdown",
   "metadata": {},
   "source": [
    "#### "
   ]
  }
 ],
 "metadata": {
  "kernelspec": {
   "display_name": "Python 3",
   "language": "python",
   "name": "python3"
  },
  "language_info": {
   "codemirror_mode": {
    "name": "ipython",
    "version": 3
   },
   "file_extension": ".py",
   "mimetype": "text/x-python",
   "name": "python",
   "nbconvert_exporter": "python",
   "pygments_lexer": "ipython3",
   "version": "3.7.1"
  }
 },
 "nbformat": 4,
 "nbformat_minor": 2
}
