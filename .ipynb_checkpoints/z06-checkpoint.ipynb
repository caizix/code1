{
 "cells": [
  {
   "cell_type": "markdown",
   "metadata": {},
   "source": [
    "append() ectend() insert()"
   ]
  },
  {
   "cell_type": "code",
   "execution_count": 8,
   "metadata": {},
   "outputs": [
    {
     "name": "stdout",
     "output_type": "stream",
     "text": [
      "[1, 2, 3, 4, 5, [6, 7, 8]]\n",
      "[1, 2, 3, 4, 5, 6, 7, 8]\n",
      "[1, 2, 3, 10, 4, 5]\n"
     ]
    }
   ],
   "source": [
    "a = [1,2,3,4,5]\n",
    "a.append([6,7,8])\n",
    "print(a)\n",
    "\n",
    "b = [1,2,3,4,5]\n",
    "b.extend([6,7,8])\n",
    "print(b)\n",
    "\n",
    "c = [1,2,3,4,5]\n",
    "c.insert(3,10)\n",
    "print(c)"
   ]
  },
  {
   "cell_type": "markdown",
   "metadata": {},
   "source": [
    "假定给出一个列表member=【“图灵”“的”“周老师”“是最帅的”】\n"
   ]
  },
  {
   "cell_type": "code",
   "execution_count": 10,
   "metadata": {},
   "outputs": [
    {
     "name": "stdout",
     "output_type": "stream",
     "text": [
      "['图灵', 99, '的', 88, '周老师', 77, '是最帅的', 666]\n"
     ]
    }
   ],
   "source": [
    "member = [\"图灵\",\"的\",\"周老师\",\"是最帅的\"]\n",
    "member.insert(1,99)\n",
    "member.insert(3,88)\n",
    "member.insert(5,77)\n",
    "member.append(666)\n",
    "print(member)"
   ]
  },
  {
   "cell_type": "markdown",
   "metadata": {},
   "source": [
    "请问如何将下边这个列表的“图灵学院修改为：“周老师”"
   ]
  },
  {
   "cell_type": "markdown",
   "metadata": {},
   "source": [
    "ls=[1,[1,2,['图灵学院']]，3,5,8,13,18]"
   ]
  },
  {
   "cell_type": "code",
   "execution_count": 12,
   "metadata": {},
   "outputs": [
    {
     "name": "stdout",
     "output_type": "stream",
     "text": [
      "[1, [1, 2, ['周老师']], 3, 5, 8, 13, 18]\n"
     ]
    }
   ],
   "source": [
    "ls=[1,[1,2,['图灵学院']],3,5,8,13,18]\n",
    "ls[1][2][0]=\"周老师\"\n",
    "print(ls)"
   ]
  },
  {
   "cell_type": "code",
   "execution_count": 14,
   "metadata": {},
   "outputs": [
    {
     "name": "stdout",
     "output_type": "stream",
     "text": [
      "[(0, 1), (0, 3), (0, 5), (0, 7), (0, 9), (2, 1), (2, 3), (2, 5), (2, 7), (2, 9), (4, 1), (4, 3), (4, 5), (4, 7), (4, 9), (6, 1), (6, 3), (6, 5), (6, 7), (6, 9), (8, 1), (8, 3), (8, 5), (8, 7), (8, 9)]\n"
     ]
    }
   ],
   "source": [
    "ls =[(x,y) for x in range(10) for y in range(10) if x%2==0 if y%2!=0 ]\n",
    "print(ls)"
   ]
  },
  {
   "cell_type": "code",
   "execution_count": null,
   "metadata": {},
   "outputs": [],
   "source": [
    "ls =[]\n",
    "for x in range(10):\n",
    "    for y in range(10):\n",
    "        if x%2==0and y%2!=0:\n",
    "            ls.append((x,y))\n",
    "print(ls)"
   ]
  }
 ],
 "metadata": {
  "kernelspec": {
   "display_name": "Python 3",
   "language": "python",
   "name": "python3"
  },
  "language_info": {
   "codemirror_mode": {
    "name": "ipython",
    "version": 3
   },
   "file_extension": ".py",
   "mimetype": "text/x-python",
   "name": "python",
   "nbconvert_exporter": "python",
   "pygments_lexer": "ipython3",
   "version": "3.7.1"
  }
 },
 "nbformat": 4,
 "nbformat_minor": 2
}
