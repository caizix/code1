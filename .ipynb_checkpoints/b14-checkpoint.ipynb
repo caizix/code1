{
 "cells": [
  {
   "cell_type": "markdown",
   "metadata": {},
   "source": [
    "编写一个计算减法的方法，当第一个数小于第二个数时，抛出“被减数不能小于减数”\n"
   ]
  },
  {
   "cell_type": "code",
   "execution_count": 2,
   "metadata": {},
   "outputs": [
    {
     "name": "stdout",
     "output_type": "stream",
     "text": [
      "好像出错了，出错的内容是被减数不能小于减数\n"
     ]
    }
   ],
   "source": [
    "def jianfa(a,b):\n",
    "    if a<b:\n",
    "        raise BaseException(\"被减数不能小于减数\")\n",
    "    else:\n",
    "        return a-b\n",
    "try:\n",
    "    jianfa(3,7)\n",
    "except BaseException as error:\n",
    "    print(\"好像出错了，出错的内容是{}\".format(error))"
   ]
  },
  {
   "cell_type": "markdown",
   "metadata": {},
   "source": [
    "定义一个函数func(filename) filename:文件的路径，函数的功能：打开文件，并且返回文件的内容，最后关闭，用异常来处理可能发生的错误"
   ]
  },
  {
   "cell_type": "code",
   "execution_count": 5,
   "metadata": {},
   "outputs": [
    {
     "name": "stdout",
     "output_type": "stream",
     "text": [
      "this is a dog\n"
     ]
    }
   ],
   "source": [
    "import os\n",
    "def func(filename):\n",
    "    try:\n",
    "        file = open(filename)\n",
    "    except Exception as error:\n",
    "        print(\"出错了，出错的内容是{}\".format(error))\n",
    "    else:\n",
    "        print(file.read())\n",
    "        file.close()\n",
    "        \n",
    "func(\"hahaha.txt\")"
   ]
  },
  {
   "cell_type": "markdown",
   "metadata": {},
   "source": [
    "自已定义一个异常类，集成Exception类，捕获下面的过程：判断输入的字符长度是否小于5"
   ]
  },
  {
   "cell_type": "code",
   "execution_count": 8,
   "metadata": {},
   "outputs": [
    {
     "name": "stdout",
     "output_type": "stream",
     "text": [
      "算你聪明\n"
     ]
    }
   ],
   "source": [
    "class MyError(Exception):\n",
    "    def __init__(self,stri):\n",
    "        self.stri = stri\n",
    "    def process(self):\n",
    "        if len(self.stri)<5:\n",
    "            print(\"字符创长度必须大于5\")\n",
    "        else:\n",
    "            print(\"算你聪明\")\n",
    "            \n",
    "try:\n",
    "    er = MyError(\"sssssss\")\n",
    "    er.process()\n",
    "except MyError as err:\n",
    "    print(err)"
   ]
  },
  {
   "cell_type": "markdown",
   "metadata": {},
   "source": [
    "写一个6位随机验证码程序（用random模块），要求验证码中至少包含一个数字，一个小写字母和一个大写的字母"
   ]
  },
  {
   "cell_type": "code",
   "execution_count": 34,
   "metadata": {},
   "outputs": [
    {
     "name": "stdout",
     "output_type": "stream",
     "text": [
      "rL427YzLvW\n"
     ]
    }
   ],
   "source": [
    "import random\n",
    "import string\n",
    "code =[]\n",
    "code.append(random.choice(string.ascii_lowercase)) #保证验证码中有一个小写字母\n",
    "code.append(random.choice(string.ascii_uppercase)) #保证验证码中有一个大写字母\n",
    "code.append(random.choice(string.digits)) #保证验证码中有一个数字\n",
    "\n",
    "while len (code)<10:\n",
    "    code.append(random.choice(string.ascii_lowercase+string.ascii_uppercase+string.digits))\n",
    "# print(code)\n",
    "q_code = \"\".join(code)\n",
    "print(q_code)\n"
   ]
  },
  {
   "cell_type": "markdown",
   "metadata": {},
   "source": [
    "写一个用户登录的验证程序，文件如下123.json"
   ]
  },
  {
   "cell_type": "markdown",
   "metadata": {},
   "source": [
    "-123.json\n",
    "{\"expire_date\":\"2021-01-01\",\"id\":\"1234\",\"status\":0,\"pay_day\":22,\"password\":\"abc\"}\n"
   ]
  },
  {
   "cell_type": "raw",
   "metadata": {},
   "source": [
    "__用户名为json的文件名\n",
    "__判断是否过期。鱼expire_date作比较\n",
    "__登录成功后答应登录成功，三次登录失败，status值改为1，并且所并账号"
   ]
  },
  {
   "cell_type": "code",
   "execution_count": null,
   "metadata": {},
   "outputs": [],
   "source": [
    "import os\n",
    "import time\n",
    "import json\n",
    "\n",
    "count = 0\n",
    "\n",
    "exit_flag = False\n",
    "\n",
    "while count < 3:\n",
    "    user = input(\"请输入用户名：\")\n",
    "    f = user.strip() + '.json'\n",
    "    if os.path.exists(f):\n",
    "        fp = open(f, \"r+\", encoding=\"utf-8\")\n",
    "        j_user = json.load(fp)\n",
    "        if j_user['status'] == 1:\n",
    "            print(\"你的账号已被锁定\")\n",
    "            break\n",
    "        else:\n",
    "            expire_dt = j_user['expire_date']\n",
    "            current_st = time.time()\n",
    "            expire_st = time.mktime(time.strptime(expire_dt, \"%Y-%m-%d\"))\n",
    "\n",
    "            if current_st > expire_st:\n",
    "                print(\"用户已经过期了\")\n",
    "                break\n",
    "            else:\n",
    "                while count < 3:\n",
    "                    pwd = input(\"请输入密码：\")\n",
    "                    if pwd.strip() == j_user['password']:\n",
    "                        print(\"登录成功\")\n",
    "                        exit_flag = True\n",
    "                        break\n",
    "                    else:\n",
    "                        if count == 2:\n",
    "                            print(\"用户登录超过3次，锁定账号\")\n",
    "                            j_user['status'] = 1\n",
    "                            fp.seek(0)\n",
    "                            fp.truncate()\n",
    "                            json.dump(j_user, fp)\n",
    "                    count += 1\n",
    "    if exit_flag:\n",
    "        break\n",
    "    else:\n",
    "        print(\"用户不存在\")\n",
    "        count += 1\n",
    "\n",
    "\n",
    "                "
   ]
  },
  {
   "cell_type": "markdown",
   "metadata": {},
   "source": [
    "利用map（）函数，把用户输入的不规范的英语，首字母变成大写，其他的小写"
   ]
  },
  {
   "cell_type": "code",
   "execution_count": 6,
   "metadata": {},
   "outputs": [
    {
     "name": "stdout",
     "output_type": "stream",
     "text": [
      "Adam\n",
      "Lisa\n",
      "Jack\n"
     ]
    },
    {
     "data": {
      "text/plain": [
       "['Adam', 'Lisa', 'Jack']"
      ]
     },
     "execution_count": 6,
     "metadata": {},
     "output_type": "execute_result"
    }
   ],
   "source": [
    "def standards(s):\n",
    "    # t = '0'\n",
    "    t = s.lower()\n",
    "    t = t.capitalize()\n",
    "    print(t)\n",
    "    return t\n",
    "list(map(standards,[\"ADAm\",\"LISa\",\"JACK\"]))\n",
    "     "
   ]
  },
  {
   "cell_type": "markdown",
   "metadata": {},
   "source": [
    "利用map（）函数，把用户输入的不规范的英语，首字母变成大写，其他的小写\n",
    "利用lambda()函数"
   ]
  },
  {
   "cell_type": "code",
   "execution_count": 20,
   "metadata": {},
   "outputs": [
    {
     "name": "stdout",
     "output_type": "stream",
     "text": [
      "['Adam', 'Lisa', 'Jack']\n"
     ]
    }
   ],
   "source": [
    "ls = [\"ADAm\",\"LISa\",\"JACK\"]\n",
    "\n",
    "new_ls = map(lambda x:x.lower().capitalize(),ls)\n",
    "print(list(new_ls))"
   ]
  },
  {
   "cell_type": "markdown",
   "metadata": {},
   "source": [
    "回数：从左向右或者从右向左 filter()"
   ]
  },
  {
   "cell_type": "code",
   "execution_count": 10,
   "metadata": {},
   "outputs": [
    {
     "name": "stdout",
     "output_type": "stream",
     "text": [
      "1-1000: [1, 2, 3, 4, 5, 6, 7, 8, 9, 11, 22, 33, 44, 55, 66, 77, 88, 99, 101, 111, 121, 131, 141, 151, 161, 171, 181, 191, 202, 212, 222, 232, 242, 252, 262, 272, 282, 292, 303, 313, 323, 333, 343, 353, 363, 373, 383, 393, 404, 414, 424, 434, 444, 454, 464, 474, 484, 494, 505, 515, 525, 535, 545, 555, 565, 575, 585, 595, 606, 616, 626, 636, 646, 656, 666, 676, 686, 696, 707, 717, 727, 737, 747, 757, 767, 777, 787, 797, 808, 818, 828, 838, 848, 858, 868, 878, 888, 898, 909, 919, 929, 939, 949, 959, 969, 979, 989, 999, 1001, 1111, 1221, 1331, 1441, 1551, 1661, 1771, 1881, 1991, 2002, 2112, 2222, 2332, 2442, 2552, 2662, 2772, 2882, 2992, 3003, 3113, 3223, 3333, 3443, 3553, 3663, 3773, 3883, 3993, 4004, 4114, 4224, 4334, 4444, 4554, 4664, 4774, 4884, 4994, 5005, 5115, 5225, 5335, 5445, 5555, 5665, 5775, 5885, 5995, 6006, 6116, 6226, 6336, 6446, 6556, 6666, 6776, 6886, 6996, 7007, 7117, 7227, 7337, 7447, 7557, 7667, 7777, 7887, 7997, 8008, 8118, 8228, 8338, 8448, 8558, 8668, 8778, 8888, 8998, 9009, 9119, 9229, 9339, 9449, 9559, 9669, 9779, 9889, 9999]\n"
     ]
    }
   ],
   "source": [
    "def equal(a,b):\n",
    "    return a == b\n",
    "def is_palindrome(n):\n",
    "    s=str(n)\n",
    "    for i in range(len(s)-1):\n",
    "        if equal(s[i],s[len(s)-i-1]):\n",
    "            continue\n",
    "        else:\n",
    "            return False\n",
    "    return True\n",
    "output =filter(is_palindrome,range(1,10000))\n",
    "print(\"1-1000:\",list(output))"
   ]
  },
  {
   "cell_type": "markdown",
   "metadata": {},
   "source": [
    "用lambda函数"
   ]
  },
  {
   "cell_type": "code",
   "execution_count": 23,
   "metadata": {},
   "outputs": [
    {
     "name": "stdout",
     "output_type": "stream",
     "text": [
      "[0, 1, 2, 3, 4, 5, 6, 7, 8, 9, 11, 22, 33, 44, 55, 66, 77, 88, 99, 101, 111, 121, 131, 141, 151, 161, 171, 181, 191, 202, 212, 222, 232, 242, 252, 262, 272, 282, 292, 303, 313, 323, 333, 343, 353, 363, 373, 383, 393, 404, 414, 424, 434, 444, 454, 464, 474, 484, 494, 505, 515, 525, 535, 545, 555, 565, 575, 585, 595, 606, 616, 626, 636, 646, 656, 666, 676, 686, 696, 707, 717, 727, 737, 747, 757, 767, 777, 787, 797, 808, 818, 828, 838, 848, 858, 868, 878, 888, 898, 909, 919, 929, 939, 949, 959, 969, 979, 989, 999]\n"
     ]
    }
   ],
   "source": [
    "ls = range(1000)\n",
    "\n",
    "new_ls = filter(lambda x:str(x)[0]==str(x)[len(str(x))-1],ls)\n",
    "\n",
    "print(list(new_ls))"
   ]
  },
  {
   "cell_type": "markdown",
   "metadata": {},
   "source": [
    "假设，我们用一组元组来表示学生的名字和成绩，L=[(\"Bob\",75),(\"Adam\",92),(\"Bart\",66),(\"List\",88)],用sorted()对上述进行排序"
   ]
  },
  {
   "cell_type": "code",
   "execution_count": 14,
   "metadata": {},
   "outputs": [
    {
     "name": "stdout",
     "output_type": "stream",
     "text": [
      "[('Adam', 92), ('Bob', 75), ('Bart', 66), ('List', 88)]\n"
     ]
    }
   ],
   "source": [
    "L=[(\"Bob\",75),(\"Adam\",92),(\"Bart\",66),(\"List\",88)]\n",
    "\n",
    "def by_name(t):\n",
    "    t= sorted(t[0],key=str.lower)\n",
    "    return t\n",
    "L2 =sorted(L,key=by_name)\n",
    "print(L2)"
   ]
  },
  {
   "cell_type": "code",
   "execution_count": 24,
   "metadata": {},
   "outputs": [
    {
     "name": "stdout",
     "output_type": "stream",
     "text": [
      "[('Adam', 92), ('Bart', 66), ('Bob', 75), ('List', 88)]\n"
     ]
    }
   ],
   "source": [
    "#lambda(0)函数\n",
    "ls = [(\"Bob\",75),(\"Adam\",92),(\"Bart\",66),(\"List\",88)]\n",
    "new_ls=sorted(ls,key=lambda x:x[0])\n",
    "\n",
    "print(list(new_ls))"
   ]
  },
  {
   "cell_type": "code",
   "execution_count": null,
   "metadata": {},
   "outputs": [],
   "source": [
    "#按照成绩高低进行排序"
   ]
  },
  {
   "cell_type": "code",
   "execution_count": 17,
   "metadata": {},
   "outputs": [
    {
     "name": "stdout",
     "output_type": "stream",
     "text": [
      "[('Adam', -92), ('Bart', 66), ('Bob', 75), ('List', 88)]\n"
     ]
    }
   ],
   "source": [
    "L=[(\"Bob\",75),(\"Adam\",92),(\"Bart\",66),(\"List\",88)]\n",
    "\n",
    "def by_score(t):\n",
    "    t= sorted(range(t[1]),key=abs)\n",
    "    return t\n",
    "L2 =sorted(L,key=by_score)\n",
    "print(L2)"
   ]
  },
  {
   "cell_type": "code",
   "execution_count": 27,
   "metadata": {},
   "outputs": [
    {
     "name": "stdout",
     "output_type": "stream",
     "text": [
      "[('Adam', 92), ('List', 88), ('Bob', 75), ('Bart', 66)]\n"
     ]
    }
   ],
   "source": [
    "ls = [(\"Bob\",75),(\"Adam\",92),(\"Bart\",66),(\"List\",88)]\n",
    "\n",
    "new_ls= sorted(ls,key=lambda x:x[1],reverse=True)\n",
    "print(list(new_ls))"
   ]
  },
  {
   "cell_type": "code",
   "execution_count": null,
   "metadata": {},
   "outputs": [],
   "source": []
  }
 ],
 "metadata": {
  "kernelspec": {
   "display_name": "Python 3",
   "language": "python",
   "name": "python3"
  }
 },
 "nbformat": 4,
 "nbformat_minor": 2
}
