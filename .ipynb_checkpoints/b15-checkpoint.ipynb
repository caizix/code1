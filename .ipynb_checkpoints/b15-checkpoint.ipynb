{
 "cells": [
  {
   "cell_type": "markdown",
   "metadata": {},
   "source": [
    "编写一个程序，接受用户输入的内容，并且保存为新的文件"
   ]
  },
  {
   "cell_type": "code",
   "execution_count": 3,
   "metadata": {},
   "outputs": [
    {
     "name": "stdout",
     "output_type": "stream",
     "text": [
      "请用户输入用户名:text2\n",
      "请输入内容，单独输入：w保存退出\n",
      "222\n",
      "222\n",
      "333\n",
      "444\n",
      "999\n",
      "555\n",
      ":w\n"
     ]
    }
   ],
   "source": [
    "file_name = input(\"请用户输入用户名:\")\n",
    "def file_write(file_name):\n",
    "    f = open (file_name,\"w\")\n",
    "    print (\"请输入内容，单独输入：w保存退出\")\n",
    "    \n",
    "    while True:\n",
    "        write_something = input()\n",
    "        if write_something !=\":w\":\n",
    "            f.write(\"%s\\n\"% write_something)\n",
    "        else:\n",
    "            break\n",
    "    f.close()\n",
    "file_write(file_name)"
   ]
  },
  {
   "cell_type": "code",
   "execution_count": null,
   "metadata": {},
   "outputs": [],
   "source": []
  },
  {
   "cell_type": "code",
   "execution_count": 7,
   "metadata": {},
   "outputs": [
    {
     "name": "stdout",
     "output_type": "stream",
     "text": [
      "请输入需要比较的第一个文件名：text1\n",
      "请输入需要比较的第二个文件名：text2\n",
      "两个文件有3不同\n",
      "第1行不一样\n",
      "第5行不一样\n",
      "第6行不一样\n"
     ]
    }
   ],
   "source": [
    "file1 = input(\"请输入需要比较的第一个文件名：\")\n",
    "file2 = input(\"请输入需要比较的第二个文件名：\")\n",
    "\n",
    "def file_compare(file1,file2):\n",
    "    f1 = open(file1)\n",
    "    f2 = open(file2)\n",
    "    \n",
    "    count = 0\n",
    "    differ = []\n",
    "    \n",
    "    for line1 in f1:\n",
    "        line2 = f2.readline()\n",
    "        \n",
    "        count +=1\n",
    "        if line1 !=line2:\n",
    "            differ.append(count)\n",
    "    \n",
    "    f1.close()\n",
    "    f2.close()\n",
    "    \n",
    "    return differ\n",
    "\n",
    "differ = file_compare(file1,file2)\n",
    "if len(differ) == 0:\n",
    "    print(\"两个文件完全相同\")\n",
    "else:\n",
    "    print(\"两个文件有%d不同\" % len(differ))\n",
    "    for each in differ:\n",
    "        print(\"第%d行不一样\" % each)\n",
    "    "
   ]
  },
  {
   "cell_type": "markdown",
   "metadata": {},
   "source": [
    "编写一个程序，比较用户输入的是否相同，如果不同，显示出所有不同处的行号"
   ]
  },
  {
   "cell_type": "code",
   "execution_count": null,
   "metadata": {},
   "outputs": [],
   "source": []
  }
 ],
 "metadata": {
  "kernelspec": {
   "display_name": "Python 3",
   "language": "python",
   "name": "python3"
  },
  "language_info": {
   "codemirror_mode": {
    "name": "ipython",
    "version": 3
   },
   "file_extension": ".py",
   "mimetype": "text/x-python",
   "name": "python",
   "nbconvert_exporter": "python",
   "pygments_lexer": "ipython3",
   "version": "3.7.1"
  }
 },
 "nbformat": 4,
 "nbformat_minor": 2
}
