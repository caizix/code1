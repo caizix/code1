{
 "cells": [
  {
   "cell_type": "code",
   "execution_count": 9,
   "metadata": {},
   "outputs": [
    {
     "name": "stdout",
     "output_type": "stream",
     "text": [
      "* * * * * \n",
      "* * * * * \n",
      "* * * * * \n",
      "* * * * * \n",
      "====================\n",
      "* * * * * \n",
      "*       * \n",
      "*       * \n",
      "* * * * * \n"
     ]
    }
   ],
   "source": [
    "# 打印一个矩形\n",
    "# 控制行\n",
    "for i in range(1,5):\n",
    "    # 控制列\n",
    "    for j in range(1,6):\n",
    "        print('*',end=\" \")\n",
    "    print()\n",
    "print(\"=\" * 20)\n",
    "# 控制行\n",
    "for i in range(1,5):\n",
    "    # 控制列\n",
    "    for j in range(1,6):\n",
    "        if i==1 or i==4 or j==1 or j==5:\n",
    "            print(\"*\",end=\" \")\n",
    "        else:\n",
    "            print(\" \",end=\" \")\n",
    "    print()\n"
   ]
  },
  {
   "cell_type": "code",
   "execution_count": 22,
   "metadata": {},
   "outputs": [
    {
     "name": "stdout",
     "output_type": "stream",
     "text": [
      "* * * * * \n",
      "* * * * \n",
      "* * * \n",
      "* * \n",
      "* \n",
      "====================\n",
      "* * * * * \n",
      "*     * \n",
      "*   * \n",
      "* * \n",
      "* \n",
      "====================\n",
      "* \n",
      "* * \n",
      "* * * \n",
      "* * * * \n",
      "* * * * * \n",
      "====================\n",
      "* \n",
      "* * \n",
      "*   * \n",
      "*     * \n",
      "* * * * * \n"
     ]
    }
   ],
   "source": [
    "# 打印直角三角形\n",
    "# 控制行\n",
    "for i in range(5):\n",
    "    # 控制列\n",
    "    for j in range(1,6-i):\n",
    "        print('*',end=\" \")\n",
    "    print()\n",
    "print(\"=\" * 20)\n",
    "\n",
    "for i in range(5):\n",
    "    # 控制列\n",
    "    for j in range(1,6-i):\n",
    "        if i==0 or i==4 or j==1 or j==6-i-1:\n",
    "            print('*',end=\" \")\n",
    "        else:\n",
    "            print(\" \",end=\" \")\n",
    "    print()\n",
    "\n",
    "\n",
    "print(\"=\" * 20)\n",
    "for i in range(5):\n",
    "    # 控制列\n",
    "    for j in range(i+1):\n",
    "        print('*',end=\" \")\n",
    "    print()\n",
    "print(\"=\" * 20)\n",
    "\n",
    "for i in range(1,6):\n",
    "    # 控制列\n",
    "    for j in range(6-i,6):\n",
    "        if i==1 or i==5 or j==6-i or j==5:\n",
    "            print(\"*\",end = \" \")\n",
    "        else:\n",
    "            print(\" \",end=\" \")\n",
    "        \n",
    "    print()"
   ]
  },
  {
   "cell_type": "code",
   "execution_count": 43,
   "metadata": {},
   "outputs": [
    {
     "name": "stdout",
     "output_type": "stream",
     "text": [
      "     * \n",
      "    * * \n",
      "   * * * \n",
      "  * * * * \n",
      " * * * * * \n",
      "====================\n",
      "    * \n",
      "   * * \n",
      "  *   * \n",
      " *     * \n",
      "* * * * * \n",
      "====================\n",
      "    * \n",
      "   * * \n",
      "  * * * \n",
      " *     * \n",
      "*       * \n"
     ]
    }
   ],
   "source": [
    "for i in range(5):\n",
    "    # 控制列\n",
    "    for k in range(5-i):\n",
    "        print(end=\" \")\n",
    "    for j in range(i+1):\n",
    "        print('*',end=\" \")\n",
    "    print()\n",
    "print(\"=\" * 20)\n",
    "for i in range(1,6):\n",
    "    # 控制列\n",
    "    for k in range(1,6-i):\n",
    "        print(end=\" \")\n",
    "    for j in range(6-i,6):\n",
    "        if i==1 or i==5 or j==6-i or j==5:\n",
    "            print('*',end=\" \")\n",
    "        else:\n",
    "            print(\" \",end=\" \")\n",
    "    print()    \n",
    "print(\"=\" * 20)\n",
    "for i in range(1,6):\n",
    "    # 控制列\n",
    "    for k in range(1,6-i):\n",
    "        print(end=\" \")\n",
    "    for j in range(6-i,6):\n",
    "        if i==1 or i==3 or j==6-i or j==5:\n",
    "            print('*',end=\" \")\n",
    "        else:\n",
    "            print(\" \",end=\" \")\n",
    "    print()    "
   ]
  },
  {
   "cell_type": "code",
   "execution_count": 46,
   "metadata": {},
   "outputs": [
    {
     "name": "stdout",
     "output_type": "stream",
     "text": [
      "     * \n",
      "    * * \n",
      "   * * * \n",
      "  * * * * \n",
      " * * * * * \n",
      "  * * * * \n",
      "   * * * \n",
      "    * * \n",
      "     * \n"
     ]
    }
   ],
   "source": [
    "for i in range(4):\n",
    "    # 控制列\n",
    "    for k in range(5-i):\n",
    "        print(end=\" \")\n",
    "    for j in range(i+1):\n",
    "        print('*',end=\" \")\n",
    "    print()\n",
    "for i in range(1,6):\n",
    "    # 控制列\n",
    "    for k in range(i):\n",
    "        print(end=\" \")\n",
    "    for j in range(6-i):\n",
    "        print('*',end=\" \")\n",
    "    print()"
   ]
  },
  {
   "cell_type": "code",
   "execution_count": 61,
   "metadata": {},
   "outputs": [
    {
     "name": "stdout",
     "output_type": "stream",
     "text": [
      "     * \n",
      "    * * \n",
      "   *   * \n",
      "  *     * \n",
      " *       * \n",
      "  *     * \n",
      "   *   * \n",
      "    * * \n",
      "     * \n"
     ]
    }
   ],
   "source": [
    "for i in range(1,5):\n",
    "    # 控制列\n",
    "    for k in range(1,7-i):\n",
    "        print(end=\" \")\n",
    "    for j in range(6-i,6):\n",
    "        if i==1 or j==6-i or j==5:\n",
    "            print('*',end=\" \")\n",
    "        else:\n",
    "            print(' ',end=\" \")\n",
    "    print()\n",
    "for i in range(1,6):\n",
    "    # 控制列\n",
    "    for k in range(i):\n",
    "        print(end=\" \")\n",
    "    for j in range(6-i):\n",
    "        if i==5 or j==0 or j==6-i-1:\n",
    "            print('*',end=\" \")\n",
    "        else:\n",
    "            print(' ',end=\" \")\n",
    "    print()"
   ]
  },
  {
   "cell_type": "code",
   "execution_count": 64,
   "metadata": {},
   "outputs": [
    {
     "name": "stdout",
     "output_type": "stream",
     "text": [
      "    * * * * \n",
      "   * * * * * \n",
      "  * * * * * * \n",
      " * * * * * * * \n",
      "* * * * * * * * \n",
      "====================\n",
      "    * * * * \n",
      "   *       * \n",
      "  *         * \n",
      " *           * \n",
      "* * * * * * * * \n"
     ]
    }
   ],
   "source": [
    "for i in range(1,6):\n",
    "    # 控制列\n",
    "    for k in range(1,6-i):\n",
    "        print(end=\" \")\n",
    "    for j in range(6-i,9):\n",
    "        print('*',end=\" \")\n",
    "    print()\n",
    "print(\"=\" * 20)\n",
    "for i in range(1,6):\n",
    "    # 控制列\n",
    "    for k in range(1,6-i):\n",
    "        print(end=\" \")\n",
    "    for j in range(6-i,9):\n",
    "        if i==1 or i==5 or j==6-i or j==8:\n",
    "            print('*',end=\" \")\n",
    "        else:\n",
    "            print(' ',end=\" \")\n",
    "    print()"
   ]
  },
  {
   "cell_type": "code",
   "execution_count": 67,
   "metadata": {},
   "outputs": [
    {
     "name": "stdout",
     "output_type": "stream",
     "text": [
      "* * \n",
      "*   * \n",
      "*   * \n",
      "* * \n"
     ]
    }
   ],
   "source": [
    "for m in range(4):\n",
    "    for n in range(3):\n",
    "        if n==0:\n",
    "            print('*',end=\" \")\n",
    "        elif m==0 or m==3:\n",
    "            if n==2:\n",
    "                break\n",
    "            else:\n",
    "                print('*',end=\" \")\n",
    "        elif n==2:\n",
    "            if m==0 or m==3:\n",
    "                break\n",
    "            else:\n",
    "                print('*',end=\" \")\n",
    "        else:\n",
    "            print(' ',end=' ')\n",
    "    print('')"
   ]
  },
  {
   "cell_type": "code",
   "execution_count": 68,
   "metadata": {},
   "outputs": [
    {
     "name": "stdout",
     "output_type": "stream",
     "text": [
      "* * \n",
      "*   * \n",
      "*   * \n",
      "* * \n",
      "*   * \n"
     ]
    }
   ],
   "source": [
    "for m in range(5):\n",
    "    for n in range(3):\n",
    "        if n==0:\n",
    "            print('*',end=\" \")\n",
    "        elif m==0 or m==3:\n",
    "            if n==2:\n",
    "                break\n",
    "            else:\n",
    "                print('*',end=\" \")\n",
    "        elif n==2:\n",
    "            if m==0 or m==3:\n",
    "                break\n",
    "            else:\n",
    "                print('*',end=\" \")\n",
    "        else:\n",
    "            print(' ',end=' ')\n",
    "    print('')"
   ]
  },
  {
   "cell_type": "code",
   "execution_count": 76,
   "metadata": {},
   "outputs": [
    {
     "name": "stdout",
     "output_type": "stream",
     "text": [
      "* * \n",
      "*   * \n",
      "*   * \n",
      "* * \n"
     ]
    }
   ],
   "source": [
    "for m in range(4):\n",
    "    for n in range(3):\n",
    "        if n==0:\n",
    "            print('*',end=\" \")\n",
    "        elif m==0 or m==3:\n",
    "            if n==2:\n",
    "                break\n",
    "            else:\n",
    "                print('*',end=\" \")\n",
    "        elif n==2:\n",
    "            if m==0 or m==3:\n",
    "                break\n",
    "            else:\n",
    "                print('*',end=\" \")\n",
    "        else:\n",
    "            print(' ',end=' ')\n",
    "    print('')"
   ]
  },
  {
   "cell_type": "code",
   "execution_count": 80,
   "metadata": {},
   "outputs": [
    {
     "name": "stdout",
     "output_type": "stream",
     "text": [
      "* * * * * \n",
      "* * * * * \n",
      "* * * * * \n",
      "* * * * * \n",
      "====================\n",
      "None\n"
     ]
    }
   ],
   "source": [
    "def s_jx():\n",
    "    for i in range(1,5):\n",
    "        # 控制列\n",
    "        for j in range(1,6):\n",
    "            print('*',end=\" \")\n",
    "        print()\n",
    "    print(\"=\" * 20)\n",
    "def k_jx():\n",
    "    for i in range(1,5):\n",
    "    # 控制列\n",
    "    for j in range(1,6):\n",
    "        if i==1 or i==4 or j==1 or j==5:\n",
    "            print(\"*\",end=\" \")\n",
    "        else:\n",
    "            print(\" \",end=\" \")\n",
    "    print()"
   ]
  },
  {
   "cell_type": "code",
   "execution_count": null,
   "metadata": {},
   "outputs": [],
   "source": []
  }
 ],
 "metadata": {
  "kernelspec": {
   "display_name": "Python 3",
   "language": "python",
   "name": "python3"
  },
  "language_info": {
   "codemirror_mode": {
    "name": "ipython",
    "version": 3
   },
   "file_extension": ".py",
   "mimetype": "text/x-python",
   "name": "python",
   "nbconvert_exporter": "python",
   "pygments_lexer": "ipython3",
   "version": "3.7.1"
  }
 },
 "nbformat": 4,
 "nbformat_minor": 2
}
