{
 "cells": [
  {
   "cell_type": "markdown",
   "metadata": {},
   "source": [
    "#####编写一个程序，当用户输入文件名和行数的时候，将该文件的的前n行打印到屏幕上"
   ]
  },
  {
   "cell_type": "code",
   "execution_count": null,
   "metadata": {},
   "outputs": [],
   "source": [
    "file_name = input(r\"请输入你想打开的文件名：\")\n",
    "line_num = input(r\"请输入你想显示前多少行：\")\n",
    "\n",
    "def file_view(file_name,line_num):\n",
    "    print('\\n文件%s的前%s行的内容如下'%(file_name,line_num))\n",
    "    \n",
    "    # 去打开文件\n",
    "    f = open (file_name)\n",
    "    for i in range(int(line_num)):\n",
    "        print(f.readline())\n",
    "    f.close()\n",
    "file_view(file_name,line_num)\n"
   ]
  },
  {
   "cell_type": "markdown",
   "metadata": {},
   "source": [
    "##### 使用户可以随意输入需要显示的行数"
   ]
  },
  {
   "cell_type": "code",
   "execution_count": null,
   "metadata": {},
   "outputs": [],
   "source": [
    "file_name = input(r\"请输入你想打开的文件名：\")\n",
    "line_num = input(r\"请输入你要显示的行数，格式为【1,9】或者【：】：\")\n",
    "def print_line(file_name,line_num):\n",
    "    f = open(file_name)\n",
    "    \n",
    "    begin,end = line_num.split(\":\")\n",
    "    if begin == \"\":\n",
    "        begin = \"1\"\n",
    "    if end ==\"\":\n",
    "        end = \"-1\"\n",
    "    begin = int(begin)-1\n",
    "    end = int(end)\n",
    "    \n",
    "    lines =end-begin\n",
    "    \n",
    "    \n",
    "    for i in range(begin):\n",
    "        f.readline()\n",
    "        \n",
    "    if lines <0:\n",
    "        print (f.read())\n",
    "    else:\n",
    "        for j in range(lines):\n",
    "            print(f.readline())\n",
    "            \n",
    "    f.close()\n",
    "print_line(file_name,line_num)"
   ]
  },
  {
   "cell_type": "markdown",
   "metadata": {},
   "source": [
    "#####编写一个程序，实现全部替换功能\n",
    "\n",
    "###打开一个文件\n",
    "###"
   ]
  },
  {
   "cell_type": "code",
   "execution_count": null,
   "metadata": {},
   "outputs": [],
   "source": [
    "file_name = input(\"请输入你要打开的文件名：\")\n",
    "rep_word = input(\"请输入你要替换的字符：\")\n",
    "new_word = input(\"请输入新的替换字符：\")\n",
    "def file_replace(file_name,rep_word,new_word):\n",
    "    f = open(file_name)\n",
    "    content=[]\n",
    "    \n",
    "    for eachline in f:\n",
    "        if rep_word in eachline:\n",
    "            eachline =eachline.replace(rep_word,new_word)\n",
    "        content.appent(eachline)    \n",
    "        \n",
    "    decide =input(\"你确定要这样做吗？请输入YES或者NO：\")\n",
    "        \n",
    "    if decide in [\"YES\",\"Yes\",\"yes\"]:\n",
    "        f_wirte = open(file_name,'w')\n",
    "        f_write = open(\"\".join(content))\n",
    "        f_write.close()\n",
    "        \n",
    "        \n",
    "file_replace(file_name,rep_word,new_word)"
   ]
  },
  {
   "cell_type": "code",
   "execution_count": null,
   "metadata": {},
   "outputs": [],
   "source": []
  },
  {
   "cell_type": "code",
   "execution_count": null,
   "metadata": {},
   "outputs": [],
   "source": []
  },
  {
   "cell_type": "code",
   "execution_count": null,
   "metadata": {},
   "outputs": [],
   "source": []
  },
  {
   "cell_type": "code",
   "execution_count": null,
   "metadata": {},
   "outputs": [],
   "source": []
  }
 ],
 "metadata": {
  "kernelspec": {
   "display_name": "Python 3",
   "language": "python",
   "name": "python3"
  },
  "language_info": {
   "codemirror_mode": {
    "name": "ipython",
    "version": 3
   },
   "file_extension": ".py",
   "mimetype": "text/x-python",
   "name": "python",
   "nbconvert_exporter": "python",
   "pygments_lexer": "ipython3",
   "version": "3.7.1"
  }
 },
 "nbformat": 4,
 "nbformat_minor": 2
}
