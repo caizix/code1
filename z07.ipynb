{
 "cells": [
  {
   "cell_type": "markdown",
   "metadata": {},
   "source": [
    "#Pywthon 数据类型的内置函数\n",
    "-str\n",
    "-list\n",
    "-dict\n",
    "-set\n"
   ]
  },
  {
   "cell_type": "markdown",
   "metadata": {},
   "source": [
    "#字符串的连接操作"
   ]
  },
  {
   "cell_type": "code",
   "execution_count": 3,
   "metadata": {},
   "outputs": [
    {
     "name": "stdout",
     "output_type": "stream",
     "text": [
      "I love liu\n"
     ]
    }
   ],
   "source": [
    "s1 = \"I love\"\n",
    "s2 = \"liu\"\n",
    "s3 = s1+\" \"+s2\n",
    "print(s3)"
   ]
  },
  {
   "cell_type": "code",
   "execution_count": 13,
   "metadata": {},
   "outputs": [
    {
     "name": "stdout",
     "output_type": "stream",
     "text": [
      "I love liu I love liu I love liu I love liu I love liu I love liu I love liu I love liu I love liu I love liu \n"
     ]
    }
   ],
   "source": [
    "#字符串的乘法\n",
    "\n",
    "s = \"I love liu \"\n",
    "s2 = s * 10\n",
    "print(s2)\n"
   ]
  },
  {
   "cell_type": "code",
   "execution_count": 12,
   "metadata": {},
   "outputs": [
    {
     "name": "stdout",
     "output_type": "stream",
     "text": [
      "l\n",
      "u\n",
      "3456\n",
      "123456789\n",
      "2895392277232\n",
      "2895392277232\n"
     ]
    }
   ],
   "source": [
    "#字符串当成列表\n",
    "s = \"I love liu\"\n",
    "print(s[2])\n",
    "print(s[-1])\n",
    "\n",
    "s = \"123456789\"\n",
    "print(s[2:6])\n",
    "print(s[:])\n",
    "#切片返回来的一个全新的字符串？\n",
    "#全切就是原地址\n",
    "#半切就是新地址\n",
    "s = \"I love liu\"\n",
    "print(id(s))\n",
    "print(id(s[:]))"
   ]
  },
  {
   "cell_type": "code",
   "execution_count": 16,
   "metadata": {},
   "outputs": [
    {
     "name": "stdout",
     "output_type": "stream",
     "text": [
      "I love liu\n"
     ]
    }
   ],
   "source": [
    "#capitalize首字母大写，其余小写\n",
    "s = \"I love Liu\"\n",
    "print(s.capitalize())"
   ]
  },
  {
   "cell_type": "code",
   "execution_count": 19,
   "metadata": {},
   "outputs": [
    {
     "name": "stdout",
     "output_type": "stream",
     "text": [
      "I Love Youliu\n"
     ]
    }
   ],
   "source": [
    "#title(),将单词的开头大写\n",
    "s = \"I love youLiu\"\n",
    "s1 = s.title()\n",
    "print(s1)"
   ]
  },
  {
   "cell_type": "code",
   "execution_count": 20,
   "metadata": {},
   "outputs": [
    {
     "name": "stdout",
     "output_type": "stream",
     "text": [
      "I S LA DS DAS\n"
     ]
    }
   ],
   "source": [
    "#upper() 将所有的大写，返回字符串\n",
    "s = 'I s la ds das'\n",
    "print(s.upper())"
   ]
  },
  {
   "cell_type": "code",
   "execution_count": 21,
   "metadata": {},
   "outputs": [
    {
     "name": "stdout",
     "output_type": "stream",
     "text": [
      "i s la ds das\n"
     ]
    }
   ],
   "source": [
    "#lower() 将所有的小写，返回字符串\n",
    "s = 'I s la ds das'\n",
    "print(s.lower())"
   ]
  },
  {
   "cell_type": "code",
   "execution_count": 22,
   "metadata": {},
   "outputs": [
    {
     "name": "stdout",
     "output_type": "stream",
     "text": [
      "i S LA DS DAS\n"
     ]
    }
   ],
   "source": [
    "#swapcase() 将所有的大小 写 交换，返回字符串\n",
    "s = 'I s la ds das'\n",
    "print(s.swapcase())"
   ]
  },
  {
   "cell_type": "code",
   "execution_count": 23,
   "metadata": {},
   "outputs": [
    {
     "name": "stdout",
     "output_type": "stream",
     "text": [
      "13\n"
     ]
    }
   ],
   "source": [
    "#len() 将计算长度，返回字符串\n",
    "#len统计长度是按照字符个数统计的\n",
    "s = 'I s la ds das'\n",
    "print(len(s))"
   ]
  },
  {
   "cell_type": "code",
   "execution_count": 28,
   "metadata": {},
   "outputs": [
    {
     "name": "stdout",
     "output_type": "stream",
     "text": [
      "1\n",
      "0\n"
     ]
    }
   ],
   "source": [
    "#find() 查找字符串，找不到返回-1  第一次找到返回第一次索引值\n",
    "#index（） 查找指定的字符串，找不到报错\n",
    "s = 'asdfdnffuwienffoialkcnewnsjdksiis'\n",
    "s1 = s.find('s',1)\n",
    "s2 = s.index('a')\n",
    "print(s1)\n",
    "print(s2)"
   ]
  },
  {
   "cell_type": "code",
   "execution_count": 29,
   "metadata": {},
   "outputs": [
    {
     "name": "stdout",
     "output_type": "stream",
     "text": [
      "2\n"
     ]
    }
   ],
   "source": [
    "# count()  计算字符串出现的次数， 返回整形\n",
    "s = 'sandsjadvldvnlkavjkbafdva'\n",
    "print(s.count('s'))"
   ]
  },
  {
   "cell_type": "code",
   "execution_count": 30,
   "metadata": {},
   "outputs": [
    {
     "name": "stdout",
     "output_type": "stream",
     "text": [
      "False\n",
      "True\n",
      "**********\n",
      "True\n",
      "False\n"
     ]
    }
   ],
   "source": [
    "# startswith()  检查是否以指定字母开头，， 返回布尔值\n",
    "# endswith()   检查是否以指定字母结束\n",
    "\n",
    "s = 'I like dog'\n",
    "print(s.startswith('i'))\n",
    "print(s.startswith('I'))\n",
    "\n",
    "print(\"*\" * 10)\n",
    "\n",
    "print(s.endswith('g'))\n",
    "print(s.endswith('o'))"
   ]
  },
  {
   "cell_type": "code",
   "execution_count": 31,
   "metadata": {},
   "outputs": [
    {
     "name": "stdout",
     "output_type": "stream",
     "text": [
      "False\n",
      "True\n",
      "********************\n",
      "True\n",
      "False\n",
      "********************\n",
      "False\n",
      "False\n",
      "True\n",
      "====================\n",
      "True\n",
      "False\n",
      "True\n"
     ]
    }
   ],
   "source": [
    "# isupper() 检测所有字母是否是大写字母   返回时布尔值\n",
    "s = 'f狗gh'\n",
    "s1 = 'DF狗HJ'\n",
    "print(s.isupper())\n",
    "print(s1.isupper())\n",
    "\n",
    "print('*' * 20)\n",
    "\n",
    "# islower()   是否是小写\n",
    "print(s.islower())\n",
    "print(s1.islower())\n",
    "\n",
    "print('*' * 20)\n",
    "\n",
    "#istitle()  检测是否已指定的标题显示\n",
    "print(s.istitle())\n",
    "print(s1.istitle())\n",
    "\n",
    "s2 = 'I Love Dog'\n",
    "\n",
    "print(s2.istitle())\n",
    "\n",
    "print('=' * 20)\n",
    "\n",
    "# isspace 检测字符串中是否有空字符串\n",
    "s = '           '\n",
    "s1 = 'i like  '\n",
    "s2 = ' '\n",
    "print(s.isspace())\n",
    "print(s1.isspace())\n",
    "print(s2.isspace())"
   ]
  },
  {
   "cell_type": "code",
   "execution_count": 33,
   "metadata": {},
   "outputs": [
    {
     "name": "stdout",
     "output_type": "stream",
     "text": [
      "False\n",
      "True\n"
     ]
    }
   ],
   "source": [
    "# isalpha 检测字符串是否是字母组成，，返回布尔值\n",
    "# 汉字在英文字符包裹中被当成字符\n",
    "s = 'I 狗like dog'\n",
    "s1 = 'I狗likegog'\n",
    "print(s.isalpha())\n",
    "print(s1.isalpha())\n"
   ]
  },
  {
   "cell_type": "code",
   "execution_count": 34,
   "metadata": {},
   "outputs": [],
   "source": [
    "#isalnum() 检测字符串是否有字母和数字构成  但会布尔值\n",
    "#字母和数字都可以"
   ]
  },
  {
   "cell_type": "code",
   "execution_count": 36,
   "metadata": {},
   "outputs": [
    {
     "name": "stdout",
     "output_type": "stream",
     "text": [
      "['日照', '香炉生紫烟']\n"
     ]
    }
   ],
   "source": [
    "#split()  用指定字符来分割字符串 \n",
    "s ='日照*香炉生紫烟'\n",
    "list1 = s.split('*') \n",
    "print(list1)"
   ]
  },
  {
   "cell_type": "code",
   "execution_count": 37,
   "metadata": {},
   "outputs": [
    {
     "name": "stdout",
     "output_type": "stream",
     "text": [
      "['日照香炉生紫烟', '疑是银河', '落九天']\n"
     ]
    }
   ],
   "source": [
    "# splitlines() 以换行切割字符串\n",
    "s = '''日照香炉生紫烟\\n疑是银河\\n落九天'''\n",
    "print(s.splitlines())"
   ]
  },
  {
   "cell_type": "code",
   "execution_count": 38,
   "metadata": {},
   "outputs": [
    {
     "name": "stdout",
     "output_type": "stream",
     "text": [
      "日照香炉生紫烟*疑是银河落九天\n"
     ]
    }
   ],
   "source": [
    "#join 将列表按照指定的字符串连接  返回时字符串\n",
    "list1 = ['日照香炉生紫烟','疑是银河落九天']\n",
    "s = '*'.join(list1)\n",
    "print(s)"
   ]
  },
  {
   "cell_type": "code",
   "execution_count": 39,
   "metadata": {},
   "outputs": [
    {
     "name": "stdout",
     "output_type": "stream",
     "text": [
      "00abc\n"
     ]
    }
   ],
   "source": [
    "#zfill() 指定字符串的长度，内容靠右，不足的用0填充\n",
    "s = 'abc'\n",
    "print(s.zfill(5))"
   ]
  },
  {
   "cell_type": "code",
   "execution_count": 41,
   "metadata": {},
   "outputs": [
    {
     "name": "stdout",
     "output_type": "stream",
     "text": [
      "{23567: 22823, 28818: 30333, 32905: 33756}\n",
      "今天晚上我吃的是大白菜，可好吃了\n"
     ]
    }
   ],
   "source": [
    "#maketrans() 生成用于字符串替换的映射表\n",
    "#translate() 进行字符串替换\n",
    "s = '今天晚上我吃的是小炒肉，可好吃了'\n",
    "table = s.maketrans('小炒肉',\"大白菜\")\n",
    "print(table)\n",
    "print(s.translate(table))"
   ]
  },
  {
   "cell_type": "code",
   "execution_count": 42,
   "metadata": {},
   "outputs": [],
   "source": [
    "#append()  向列表末尾加新元素\n",
    "#copy() 复制列表\n",
    "#count()计算某个元素出现的个数\n",
    "#extend() 将一个列表继承到另一个列表 \n",
    "#index()  获取在列表的索引\n",
    "#insert() 在指定位置插入元素\n",
    "#pop()  根据索引移除列表内的一个元素\n",
    "#reverse() 原地反转\n",
    "#sort()  排序  默认从小到大\n",
    "list1.sort(reverse=True)  从大到小"
   ]
  },
  {
   "cell_type": "code",
   "execution_count": null,
   "metadata": {},
   "outputs": [],
   "source": []
  }
 ],
 "metadata": {
  "kernelspec": {
   "display_name": "Python 3",
   "language": "python",
   "name": "python3"
  },
  "language_info": {
   "codemirror_mode": {
    "name": "ipython",
    "version": 3
   },
   "file_extension": ".py",
   "mimetype": "text/x-python",
   "name": "python",
   "nbconvert_exporter": "python",
   "pygments_lexer": "ipython3",
   "version": "3.7.1"
  }
 },
 "nbformat": 4,
 "nbformat_minor": 2
}
