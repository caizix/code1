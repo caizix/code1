{
 "cells": [
  {
   "cell_type": "code",
   "execution_count": 1,
   "metadata": {},
   "outputs": [
    {
     "ename": "TypeError",
     "evalue": "__init__() takes 1 positional argument but 2 were given",
     "output_type": "error",
     "traceback": [
      "\u001b[1;31m---------------------------------------------------------------------------\u001b[0m",
      "\u001b[1;31mTypeError\u001b[0m                                 Traceback (most recent call last)",
      "\u001b[1;32m<ipython-input-1-43e1521fb151>\u001b[0m in \u001b[0;36m<module>\u001b[1;34m\u001b[0m\n\u001b[0;32m     94\u001b[0m \u001b[1;33m\u001b[0m\u001b[0m\n\u001b[0;32m     95\u001b[0m \u001b[1;32mif\u001b[0m \u001b[0m__name__\u001b[0m \u001b[1;33m==\u001b[0m \u001b[1;34m\"__main__\"\u001b[0m\u001b[1;33m:\u001b[0m\u001b[1;33m\u001b[0m\u001b[1;33m\u001b[0m\u001b[0m\n\u001b[1;32m---> 96\u001b[1;33m     \u001b[0mScreenSaver\u001b[0m\u001b[1;33m(\u001b[0m\u001b[1;36m12\u001b[0m\u001b[1;33m)\u001b[0m\u001b[1;33m\u001b[0m\u001b[1;33m\u001b[0m\u001b[0m\n\u001b[0m",
      "\u001b[1;31mTypeError\u001b[0m: __init__() takes 1 positional argument but 2 were given"
     ]
    }
   ],
   "source": [
    "import random\n",
    "import tkinter\n",
    "class RandomBall():\n",
    "    \"\"\"\n",
    "        定义运动的球类\n",
    "    \"\"\"\n",
    "    def __init__(self,canvas,scrnwidth,scrnheight):\n",
    "        self.canvas = canvas\n",
    "        \"\"\"\n",
    "        canvas:画布，所有内容都在画布上，\n",
    "        scrnwidth,scrnheight:屏幕的宽高\n",
    "        \"\"\"\n",
    "        #球的初始位置\n",
    "        self.xpos = random.randint(10,int(scrnwidth))\n",
    "        self.ypos = random.randint(10,int(scrnwidth))\n",
    "        #定义求得运动的运动\n",
    "        self.xvelocity = random.randint(4,20)\n",
    "        self.yvelocity = random.randint(4,20)\n",
    "        #屏幕的大小\n",
    "        self.scrnwidth = scrnwidth\n",
    "        self.scrnheight = scrnheight\n",
    "        #球得大小随机\n",
    "        self.radius = random.randint(20,120)\n",
    "        #球的颜色\n",
    "        #RGB表述法：三个数字取值0-255\n",
    "        c = lambda :random.randint(0,255)\n",
    "        self.color='#%02x%02x%02x'%(c(),c(),c())\n",
    "    def create_ball(self):\n",
    "        \"\"\"\n",
    "        用构造函数定义变量值，在canvas画一个球\n",
    "        \"\"\"\n",
    "        #tkinter没有画圆工具，画椭圆整体化\n",
    "        x1 = self.xpos - self.radius\n",
    "        y1 = self.ypos - self.radius\n",
    "        x2 = self.xpos + self.radius\n",
    "        y2 = self.ypos + self.radius\n",
    "        self.item = self.canvas.create_oval(x1,y1,x2,y2,fill = self.color,outline = self.color)\n",
    "\n",
    "    def move_ball(self):\n",
    "        #移动球的时候，控制方向\n",
    "        self.xpos += self.xvelocity\n",
    "        self.ypos += self.yvelocity\n",
    "        #判断撞墙\n",
    "        if self.xpos + self.radius >= self.scrnwidth:\n",
    "            #撞墙了\n",
    "            self.xvelocity = -self.xvelocity\n",
    "        if self.xpos -self.radius <0:\n",
    "            self.xvelocity = -self.xvelocity\n",
    "        if self.ypos + self.radius >= self.scrnheight:\n",
    "            self.yvelocity = -self.yvelocity\n",
    "        if self.ypos -self.radius < 0:\n",
    "            self.yvelocity = -self.yvelocity\n",
    "\n",
    "\n",
    "        #在画板上挪动图画\n",
    "        self.canvas.move(self.item,self.xvelocity,self.yvelocity)\n",
    "class ScreenSaver():\n",
    "    \"\"\"\n",
    "        定义屏保的类.可以被启动\n",
    "    \"\"\"\n",
    "\n",
    "    def __init__(self):\n",
    "        balls = []\n",
    "        #每次启动球的数量\n",
    "        #self.num_balls =random.randint(6,20)\n",
    "        self.root = tkinter.TK()\n",
    "        #取消边框\n",
    "        self.root.overrideredirect(1)\n",
    "        #鼠标\n",
    "        self.root.bind('<Motion>',self.myquit)\n",
    "        #键盘\n",
    "\n",
    "        #得到屏幕的大小\n",
    "        w,h = self.root.winfo_screeneidth(),self.root.winfo_screenheight()\n",
    "\n",
    "        #创建画布\n",
    "        self.canvas = tkinter.Canvas(self.root,width=w,height=h)\n",
    "        self.canvas.pack()\n",
    "\n",
    "        #在画布花球\n",
    "        for i in range(self.num_balls):\n",
    "            ball = RandomBall(self.canvas,scrnwidth=w,scrnheight=h)\n",
    "            ball.create_ball()\n",
    "            self.balls.append(ball)\n",
    "        self.run_screen_saver()\n",
    "        self.root.mainloop()\n",
    "    def run_screen_saver(self):\n",
    "        for ball in self.balls:\n",
    "            ball.move_ball()\n",
    "        self.canvas.after(200,self.run_screen_saver())\n",
    "    def myquit(self,evevnt):\n",
    "        self.root.destroy()\n",
    "\n",
    "\n",
    "if __name__ == \"__main__\":\n",
    "    ScreenSaver(12)"
   ]
  },
  {
   "cell_type": "code",
   "execution_count": 2,
   "metadata": {},
   "outputs": [
    {
     "ename": "TclError",
     "evalue": "bad geometry specifier \"250*380\"",
     "output_type": "error",
     "traceback": [
      "\u001b[1;31m---------------------------------------------------------------------------\u001b[0m",
      "\u001b[1;31mTclError\u001b[0m                                  Traceback (most recent call last)",
      "\u001b[1;32m<ipython-input-2-d9ca92c0a0a1>\u001b[0m in \u001b[0;36m<module>\u001b[1;34m\u001b[0m\n\u001b[0;32m      2\u001b[0m \u001b[0mroot\u001b[0m \u001b[1;33m=\u001b[0m\u001b[0mTk\u001b[0m\u001b[1;33m(\u001b[0m\u001b[1;33m)\u001b[0m\u001b[1;33m\u001b[0m\u001b[1;33m\u001b[0m\u001b[0m\n\u001b[0;32m      3\u001b[0m \u001b[1;31m#定制面板\u001b[0m\u001b[1;33m\u001b[0m\u001b[1;33m\u001b[0m\u001b[1;33m\u001b[0m\u001b[0m\n\u001b[1;32m----> 4\u001b[1;33m \u001b[0mroot\u001b[0m\u001b[1;33m.\u001b[0m\u001b[0mgeometry\u001b[0m\u001b[1;33m(\u001b[0m\u001b[1;34m'250*380'\u001b[0m\u001b[1;33m)\u001b[0m\u001b[1;33m\u001b[0m\u001b[1;33m\u001b[0m\u001b[0m\n\u001b[0m\u001b[0;32m      5\u001b[0m \u001b[0mframe_show\u001b[0m \u001b[1;33m=\u001b[0m \u001b[0mFrame\u001b[0m\u001b[1;33m(\u001b[0m\u001b[0mwidth\u001b[0m\u001b[1;33m=\u001b[0m\u001b[1;36m300\u001b[0m\u001b[1;33m,\u001b[0m\u001b[0mheight\u001b[0m\u001b[1;33m=\u001b[0m\u001b[1;36m150\u001b[0m\u001b[1;33m,\u001b[0m\u001b[0mbg\u001b[0m\u001b[1;33m=\u001b[0m\u001b[1;34m'#dddddd'\u001b[0m\u001b[1;33m)\u001b[0m\u001b[1;33m\u001b[0m\u001b[1;33m\u001b[0m\u001b[0m\n\u001b[0;32m      6\u001b[0m \u001b[0mframe_show\u001b[0m\u001b[1;33m.\u001b[0m\u001b[0mpack\u001b[0m\u001b[1;33m(\u001b[0m\u001b[1;33m)\u001b[0m\u001b[1;33m\u001b[0m\u001b[1;33m\u001b[0m\u001b[0m\n",
      "\u001b[1;32mC:\\Anaconda3\\lib\\tkinter\\__init__.py\u001b[0m in \u001b[0;36mwm_geometry\u001b[1;34m(self, newGeometry)\u001b[0m\n\u001b[0;32m   1839\u001b[0m         \"\"\"Set geometry to NEWGEOMETRY of the form =widthxheight+x+y. Return\n\u001b[0;32m   1840\u001b[0m         current value if None is given.\"\"\"\n\u001b[1;32m-> 1841\u001b[1;33m         \u001b[1;32mreturn\u001b[0m \u001b[0mself\u001b[0m\u001b[1;33m.\u001b[0m\u001b[0mtk\u001b[0m\u001b[1;33m.\u001b[0m\u001b[0mcall\u001b[0m\u001b[1;33m(\u001b[0m\u001b[1;34m'wm'\u001b[0m\u001b[1;33m,\u001b[0m \u001b[1;34m'geometry'\u001b[0m\u001b[1;33m,\u001b[0m \u001b[0mself\u001b[0m\u001b[1;33m.\u001b[0m\u001b[0m_w\u001b[0m\u001b[1;33m,\u001b[0m \u001b[0mnewGeometry\u001b[0m\u001b[1;33m)\u001b[0m\u001b[1;33m\u001b[0m\u001b[1;33m\u001b[0m\u001b[0m\n\u001b[0m\u001b[0;32m   1842\u001b[0m     \u001b[0mgeometry\u001b[0m \u001b[1;33m=\u001b[0m \u001b[0mwm_geometry\u001b[0m\u001b[1;33m\u001b[0m\u001b[1;33m\u001b[0m\u001b[0m\n\u001b[0;32m   1843\u001b[0m     def wm_grid(self,\n",
      "\u001b[1;31mTclError\u001b[0m: bad geometry specifier \"250*380\""
     ]
    }
   ],
   "source": [
    "from tkinter import *\n",
    "root =Tk()\n",
    "#定制面板\n",
    "root.geometry('250*380')\n",
    "frame_show = Frame(width=300,height=150,bg='#dddddd')\n",
    "frame_show.pack()\n",
    "root.mainloop()"
   ]
  },
  {
   "cell_type": "code",
   "execution_count": null,
   "metadata": {},
   "outputs": [],
   "source": []
  }
 ],
 "metadata": {
  "kernelspec": {
   "display_name": "Python 3",
   "language": "python",
   "name": "python3"
  },
  "language_info": {
   "codemirror_mode": {
    "name": "ipython",
    "version": 3
   },
   "file_extension": ".py",
   "mimetype": "text/x-python",
   "name": "python",
   "nbconvert_exporter": "python",
   "pygments_lexer": "ipython3",
   "version": "3.7.1"
  }
 },
 "nbformat": 4,
 "nbformat_minor": 2
}
