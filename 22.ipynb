{
 "cells": [
  {
   "cell_type": "markdown",
   "metadata": {},
   "source": [
    "#####编写一个程序，用户输入文件名以及搜索的路径，搜索文件是否存在，如遇到文件夹，则进入文件夹继续搜索\n",
    "\n",
    "###input 去接受输入\n",
    "- os.path.isdir"
   ]
  },
  {
   "cell_type": "code",
   "execution_count": 3,
   "metadata": {},
   "outputs": [
    {
     "name": "stdout",
     "output_type": "stream",
     "text": [
      "请输入目录：.\n",
      "请输入文件名：text1\n",
      "C:\\Users\\19849\\Documents\\jupy\\text1\n",
      "C:\\Users\\19849\\Documents\\jupy\\Untitled Folder\\text1\n"
     ]
    }
   ],
   "source": [
    "import os\n",
    "\n",
    "start_dir = input(\"请输入目录：\")\n",
    "target = input(\"请输入文件名：\")\n",
    "\n",
    "def search_file(start_dir,target):\n",
    "    os.chdir(start_dir) # 切换到用户输入的路径\n",
    "    \n",
    "    for each_file in os.listdir(os.curdir):\n",
    "        if each_file == target:\n",
    "            print(os.getcwd() +\"\\\\\" + each_file)\n",
    "        if os.path.isdir(each_file):\n",
    "            search_file(each_file,target)\n",
    "            os.chdir(os.pardir)\n",
    "search_file(start_dir,target)\n",
    "            \n",
    "            \n",
    "            \n",
    "            \n",
    "            "
   ]
  },
  {
   "cell_type": "markdown",
   "metadata": {},
   "source": [
    "####对上述题目加一些需求,模糊匹配，判断我们的target是否包含在哪个文件夹上\n",
    "-in 去判断target这个字符串是否在文件中"
   ]
  },
  {
   "cell_type": "code",
   "execution_count": 17,
   "metadata": {},
   "outputs": [
    {
     "name": "stdout",
     "output_type": "stream",
     "text": [
      "please input start directory:.\n",
      "enter your file name:back\n",
      "C:\\Users\\19849\\Documents\\jupy\\.git\\hooks\\backup.txt\n"
     ]
    }
   ],
   "source": [
    "import os\n",
    "\n",
    "start_dir = input(\"please input start directory:\")\n",
    "target = input(\"enter your file name:\")\n",
    "\n",
    "def seach_file(start_dir,target):\n",
    "    os.chdir(start_dir)\n",
    "    \n",
    "    for each_file in os.listdir(os.curdir):\n",
    "        if target in each_file:\n",
    "            print(os.getcwd()+\"\\\\\"+each_file)   #\"//\"可以用os.sep来替换\n",
    "        if os.path.isdir(each_file):\n",
    "            seach_file(each_file ,target)\n",
    "            os.chdir(os.pardir)\n",
    "            \n",
    "            \n",
    "seach_file(start_dir,target)"
   ]
  },
  {
   "cell_type": "markdown",
   "metadata": {},
   "source": [
    "####在加一个需求，上述题目，我们需要保存我们文件存在的地方"
   ]
  },
  {
   "cell_type": "code",
   "execution_count": 20,
   "metadata": {},
   "outputs": [
    {
     "name": "stdout",
     "output_type": "stream",
     "text": [
      "please input start directory:.\n",
      "enter your file name:te\n"
     ]
    }
   ],
   "source": [
    "import os\n",
    "\n",
    "start_dir = input(\"please input start directory:\")\n",
    "target = input(\"enter your file name:\")\n",
    "backup = []\n",
    "def seach_file(start_dir,target):\n",
    "    os.chdir(start_dir)\n",
    "    \n",
    "    for each_file in os.listdir(os.curdir):\n",
    "        if target in each_file:\n",
    "            backup_file=os.getcwd()+os.sep+each_file  #\"//\"可以用os.sep来替换\n",
    "            backup.append(backup_file)\n",
    "        if os.path.isdir(each_file):\n",
    "            seach_file(each_file ,target)\n",
    "            os.chdir(os.pardir)\n",
    "    return backup\n",
    "rd =seach_file(start_dir,target)\n",
    "f = open(os.getcwd() + os.sep + \"backup\",\"wb\")\n",
    "f.write(\"\\n\".join(rd).encode(\"utf-8\"))\n",
    "f.close()"
   ]
  },
  {
   "cell_type": "code",
   "execution_count": null,
   "metadata": {},
   "outputs": [],
   "source": []
  }
 ],
 "metadata": {
  "kernelspec": {
   "display_name": "Python 3",
   "language": "python",
   "name": "python3"
  },
  "language_info": {
   "codemirror_mode": {
    "name": "ipython",
    "version": 3
   },
   "file_extension": ".py",
   "mimetype": "text/x-python",
   "name": "python",
   "nbconvert_exporter": "python",
   "pygments_lexer": "ipython3",
   "version": "3.7.1"
  }
 },
 "nbformat": 4,
 "nbformat_minor": 2
}
