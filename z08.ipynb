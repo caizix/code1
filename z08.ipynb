{
 "cells": [
  {
   "cell_type": "code",
   "execution_count": 12,
   "metadata": {},
   "outputs": [
    {
     "name": "stdout",
     "output_type": "stream",
     "text": [
      "恭喜你登陆成功\n"
     ]
    }
   ],
   "source": [
    "#写一个程序用于管理登陆系统的用户信息，\n",
    "user_pass = {\"laotie\":\"password\",\"huniu\":\"adminf\"}\n",
    "def create_user(username,password):\n",
    "    usernames=user_pass.keys()\n",
    "    if username in usernames:\n",
    "        print(\"这个用户被注册了\")\n",
    "    else:\n",
    "        user_pass[username]=password\n",
    "        print(\"恭喜你，你已经很荣幸成为我们的会员\")\n",
    "\n",
    "def login_user(username,password):\n",
    "    usernames=user_pass.keys()\n",
    "    if username not in usernames:\n",
    "        print(\"扯犊子呢\")\n",
    "    elif password!=user_pass[username]:\n",
    "        print(\"你记不住尼玛啊\")\n",
    "    else:\n",
    "        print(\"恭喜你登陆成功\")\n",
    "login_user(\"laotie\",\"password\")"
   ]
  },
  {
   "cell_type": "code",
   "execution_count": null,
   "metadata": {},
   "outputs": [],
   "source": []
  }
 ],
 "metadata": {
  "kernelspec": {
   "display_name": "Python 3",
   "language": "python",
   "name": "python3"
  },
  "language_info": {
   "codemirror_mode": {
    "name": "ipython",
    "version": 3
   },
   "file_extension": ".py",
   "mimetype": "text/x-python",
   "name": "python",
   "nbconvert_exporter": "python",
   "pygments_lexer": "ipython3",
   "version": "3.7.1"
  }
 },
 "nbformat": 4,
 "nbformat_minor": 2
}
