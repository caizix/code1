{
 "cells": [
  {
   "cell_type": "markdown",
   "metadata": {},
   "source": [
    "编写一个程序，接受用户输入的内容，并且保存为新的文件"
   ]
  },
  {
   "cell_type": "code",
   "execution_count": 2,
   "metadata": {},
   "outputs": [
    {
     "name": "stdout",
     "output_type": "stream",
     "text": [
      "请用户输入用户名:asd\n",
      "请输入内容，单独输入：w保存退出\n",
      "asd\n",
      "asd\n",
      "asd\n",
      "da\n",
      ":w\n"
     ]
    }
   ],
   "source": [
    "file_name = input(\"请用户输入用户名:\")\n",
    "def file_write(file_name):\n",
    "    f = open (file_name,\"w\")\n",
    "    print (\"请输入内容，单独输入：w保存退出\")\n",
    "    \n",
    "    while True:\n",
    "        write_something = input()\n",
    "        if write_something !=\":w\":\n",
    "            f.write(\"%s\\n\"% write_something)\n",
    "        else:\n",
    "            break\n",
    "    f.close()\n",
    "file_write(file_name)\n"
   ]
  },
  {
   "cell_type": "markdown",
   "metadata": {},
   "source": [
    "编写一个程序，比较用户输入的是否相同，如果不同，显示出所有不同处的行号"
   ]
  },
  {
   "cell_type": "code",
   "execution_count": null,
   "metadata": {},
   "outputs": [],
   "source": []
  }
 ],
 "metadata": {
  "kernelspec": {
   "display_name": "Python 3",
   "language": "python",
   "name": "python3"
  },
  "language_info": {
   "codemirror_mode": {
    "name": "ipython",
    "version": 3
   },
   "file_extension": ".py",
   "mimetype": "text/x-python",
   "name": "python",
   "nbconvert_exporter": "python",
   "pygments_lexer": "ipython3",
   "version": "3.7.1"
  }
 },
 "nbformat": 4,
 "nbformat_minor": 2
}
